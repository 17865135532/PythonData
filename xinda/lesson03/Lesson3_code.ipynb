{
 "cells": [
  {
   "cell_type": "markdown",
   "metadata": {},
   "source": [
    "# 第三课-数据结构、函数、条件和循环（2）\n",
    "\n",
    "* 数据结构\n",
    "    * 元组\n",
    "    * 字典\n",
    "* 循环\n",
    "    * while循环\n",
    "    * 循环控制：break和continue\n",
    "    * 嵌套循环\n",
    "* 自定义函数\n",
    "* 案例：工资计算函数"
   ]
  },
  {
   "cell_type": "markdown",
   "metadata": {
    "collapsed": true
   },
   "source": [
    "# 数据结构\n",
    "## 元组（tuple）\n",
    "* 元组与列表非常相似，是由若干值组成的一个序列。\n",
    "* 元组中存储的值可以是任何数据类型。\n",
    "* 元组的一个重要特征是***不可变的***。\n",
    "* 元组的数据结构不需要改变，因而在内存使用和表现上，元组比列表更有效率。"
   ]
  },
  {
   "cell_type": "code",
   "execution_count": 1,
   "metadata": {},
   "outputs": [
    {
     "data": {
      "text/plain": [
       "list"
      ]
     },
     "execution_count": 1,
     "metadata": {},
     "output_type": "execute_result"
    }
   ],
   "source": [
    "# 列表\n",
    "l = ['l', 'i', 's', 't']\n",
    "type(l)"
   ]
  },
  {
   "cell_type": "code",
   "execution_count": 2,
   "metadata": {},
   "outputs": [
    {
     "data": {
      "text/plain": [
       "tuple"
      ]
     },
     "execution_count": 2,
     "metadata": {},
     "output_type": "execute_result"
    }
   ],
   "source": [
    "# 元组中圆括号可以省略，但括号有助于快速识别元组\n",
    "t = ('t', 'u', 'p', 'l', 'e')\n",
    "type(t)"
   ]
  },
  {
   "cell_type": "code",
   "execution_count": 3,
   "metadata": {},
   "outputs": [
    {
     "name": "stdout",
     "output_type": "stream",
     "text": [
      "('l', 'i', 's', 't')\n"
     ]
    },
    {
     "data": {
      "text/plain": [
       "tuple"
      ]
     },
     "execution_count": 3,
     "metadata": {},
     "output_type": "execute_result"
    }
   ],
   "source": [
    "# tuple()函数可以把其他数据类型转化为元组\n",
    "print(tuple(l))\n",
    "type(tuple(l))"
   ]
  },
  {
   "cell_type": "markdown",
   "metadata": {},
   "source": [
    "### 索引和切片等列表操作也可以适用到元组上"
   ]
  },
  {
   "cell_type": "code",
   "execution_count": 4,
   "metadata": {},
   "outputs": [
    {
     "data": {
      "text/plain": [
       "('p', 'l')"
      ]
     },
     "execution_count": 4,
     "metadata": {},
     "output_type": "execute_result"
    }
   ],
   "source": [
    "t[2:4]"
   ]
  },
  {
   "cell_type": "markdown",
   "metadata": {},
   "source": [
    "### 元组里的元素是不可修改的"
   ]
  },
  {
   "cell_type": "code",
   "execution_count": 5,
   "metadata": {},
   "outputs": [
    {
     "data": {
      "text/plain": [
       "['L', 'i', 's', 't']"
      ]
     },
     "execution_count": 5,
     "metadata": {},
     "output_type": "execute_result"
    }
   ],
   "source": [
    "# 列表的元素可修改\n",
    "l[0] = 'L'\n",
    "l"
   ]
  },
  {
   "cell_type": "code",
   "execution_count": 6,
   "metadata": {},
   "outputs": [
    {
     "ename": "TypeError",
     "evalue": "'tuple' object does not support item assignment",
     "output_type": "error",
     "traceback": [
      "\u001b[0;31m---------------------------------------------------------------------------\u001b[0m",
      "\u001b[0;31mTypeError\u001b[0m                                 Traceback (most recent call last)",
      "\u001b[0;32m<ipython-input-6-c6d0e88bae37>\u001b[0m in \u001b[0;36m<module>\u001b[0;34m()\u001b[0m\n\u001b[1;32m      1\u001b[0m \u001b[0;31m# 元组的元素不可修改，否则产生错误提示\u001b[0m\u001b[0;34m\u001b[0m\u001b[0;34m\u001b[0m\u001b[0m\n\u001b[0;32m----> 2\u001b[0;31m \u001b[0mt\u001b[0m\u001b[0;34m[\u001b[0m\u001b[0;36m0\u001b[0m\u001b[0;34m]\u001b[0m \u001b[0;34m=\u001b[0m \u001b[0;34m'T'\u001b[0m\u001b[0;34m\u001b[0m\u001b[0m\n\u001b[0m",
      "\u001b[0;31mTypeError\u001b[0m: 'tuple' object does not support item assignment"
     ]
    }
   ],
   "source": [
    "# 元组的元素不可修改，否则产生错误提示\n",
    "t[0] = 'T' "
   ]
  },
  {
   "cell_type": "markdown",
   "metadata": {},
   "source": [
    "## 字典（dictionary）\n",
    "* 字典可看作是键(key)与值(value)之间的一系列一一对应关系。\n",
    "* 字典和列表相似，但是列表由整数作为索引，字典由key作为索引。\n",
    "* 字典中的key是没有固定顺序的，列表索引为0、1、2……有顺序。\n",
    "* 列表和字典都可以通过[]进行选择，更新，和删除。"
   ]
  },
  {
   "cell_type": "markdown",
   "metadata": {},
   "source": [
    "### 在一对一的查找方面，字典比列表更方便"
   ]
  },
  {
   "cell_type": "code",
   "execution_count": 7,
   "metadata": {
    "collapsed": true
   },
   "outputs": [],
   "source": [
    "# countries and captials 是两个列表，记录了欧洲的一些国家及其对应的首都\n",
    "countries = ['spain', 'france', 'germany', 'italy'] #国家\n",
    "capitals = ['madrid', 'paris', 'berlin', 'rome'] #首都"
   ]
  },
  {
   "cell_type": "code",
   "execution_count": 8,
   "metadata": {},
   "outputs": [
    {
     "name": "stdout",
     "output_type": "stream",
     "text": [
      "berlin\n"
     ]
    }
   ],
   "source": [
    "# 打印德国首都\n",
    "ind_ger = countries.index(\"germany\") # 先获取德国对应的数字索引\n",
    "print(capitals[ind_ger])"
   ]
  },
  {
   "cell_type": "code",
   "execution_count": 9,
   "metadata": {},
   "outputs": [
    {
     "name": "stdout",
     "output_type": "stream",
     "text": [
      "berlin\n"
     ]
    }
   ],
   "source": [
    "# 用字典可以更好的实现这个功能\n",
    "# 定义字典europe\n",
    "europe = {'spain':'madrid', 'france':'paris','germany':'berlin','italy':'rome'}\n",
    "print(europe['germany'])"
   ]
  },
  {
   "cell_type": "markdown",
   "metadata": {},
   "source": [
    "### 获取字典的keys和values"
   ]
  },
  {
   "cell_type": "code",
   "execution_count": 10,
   "metadata": {},
   "outputs": [
    {
     "data": {
      "text/plain": [
       "dict_keys(['spain', 'france', 'germany', 'italy'])"
      ]
     },
     "execution_count": 10,
     "metadata": {},
     "output_type": "execute_result"
    }
   ],
   "source": [
    "# 用keys()方法获取字典的索引\n",
    "europe.keys() "
   ]
  },
  {
   "cell_type": "code",
   "execution_count": 11,
   "metadata": {},
   "outputs": [
    {
     "data": {
      "text/plain": [
       "dict_values(['madrid', 'paris', 'berlin', 'rome'])"
      ]
     },
     "execution_count": 11,
     "metadata": {},
     "output_type": "execute_result"
    }
   ],
   "source": [
    "# 用values()方法获取字典的值\n",
    "europe.values()"
   ]
  },
  {
   "cell_type": "code",
   "execution_count": 12,
   "metadata": {},
   "outputs": [
    {
     "data": {
      "text/plain": [
       "dict_items([('spain', 'madrid'), ('france', 'paris'), ('germany', 'berlin'), ('italy', 'rome')])"
      ]
     },
     "execution_count": 12,
     "metadata": {},
     "output_type": "execute_result"
    }
   ],
   "source": [
    "# 用items()方法获取 key-value 键值对\n",
    "europe.items()  # 每个元素是元组"
   ]
  },
  {
   "cell_type": "markdown",
   "metadata": {},
   "source": [
    "### 通过键 key 获取 value 值"
   ]
  },
  {
   "cell_type": "code",
   "execution_count": 13,
   "metadata": {},
   "outputs": [
    {
     "data": {
      "text/plain": [
       "'paris'"
      ]
     },
     "execution_count": 13,
     "metadata": {},
     "output_type": "execute_result"
    }
   ],
   "source": [
    "# 输出france对应的值\n",
    "europe['france']"
   ]
  },
  {
   "cell_type": "code",
   "execution_count": 14,
   "metadata": {},
   "outputs": [
    {
     "data": {
      "text/plain": [
       "'paris'"
      ]
     },
     "execution_count": 14,
     "metadata": {},
     "output_type": "execute_result"
    }
   ],
   "source": [
    "# 我们也可以使用 get() 方法来获取key对应的值\n",
    "europe.get('france')"
   ]
  },
  {
   "cell_type": "code",
   "execution_count": 15,
   "metadata": {},
   "outputs": [
    {
     "data": {
      "text/plain": [
       "False"
      ]
     },
     "execution_count": 15,
     "metadata": {},
     "output_type": "execute_result"
    }
   ],
   "source": [
    "# 检查某个索引是否在字典里\n",
    "'britain' in europe "
   ]
  },
  {
   "cell_type": "code",
   "execution_count": 16,
   "metadata": {},
   "outputs": [
    {
     "ename": "KeyError",
     "evalue": "'britain'",
     "output_type": "error",
     "traceback": [
      "\u001b[0;31m---------------------------------------------------------------------------\u001b[0m",
      "\u001b[0;31mKeyError\u001b[0m                                  Traceback (most recent call last)",
      "\u001b[0;32m<ipython-input-16-df76e5bbdd8d>\u001b[0m in \u001b[0;36m<module>\u001b[0;34m()\u001b[0m\n\u001b[1;32m      1\u001b[0m \u001b[0;31m# 当key不在字典中时，使用 [ ] 将出错\u001b[0m\u001b[0;34m\u001b[0m\u001b[0;34m\u001b[0m\u001b[0m\n\u001b[0;32m----> 2\u001b[0;31m \u001b[0meurope\u001b[0m\u001b[0;34m[\u001b[0m\u001b[0;34m'britain'\u001b[0m\u001b[0;34m]\u001b[0m\u001b[0;34m\u001b[0m\u001b[0m\n\u001b[0m",
      "\u001b[0;31mKeyError\u001b[0m: 'britain'"
     ]
    }
   ],
   "source": [
    "# 当key不在字典中时，使用 [ ] 将出错\n",
    "europe['britain']"
   ]
  },
  {
   "cell_type": "code",
   "execution_count": 17,
   "metadata": {
    "collapsed": true
   },
   "outputs": [],
   "source": [
    "# 如果key不在字典里，get方法默认返回None\n",
    "europe.get('britain')"
   ]
  },
  {
   "cell_type": "code",
   "execution_count": 18,
   "metadata": {},
   "outputs": [
    {
     "data": {
      "text/plain": [
       "'Unknown'"
      ]
     },
     "execution_count": 18,
     "metadata": {},
     "output_type": "execute_result"
    }
   ],
   "source": [
    "# 也可以自定义返回值，如果key不在字典里,返回‘Unknown’\n",
    "europe.get('britain', 'Unknown')"
   ]
  },
  {
   "cell_type": "markdown",
   "metadata": {},
   "source": [
    "### 字典的增删改\n",
    "\n",
    "#### 增加新的键-值对"
   ]
  },
  {
   "cell_type": "code",
   "execution_count": 19,
   "metadata": {},
   "outputs": [
    {
     "data": {
      "text/plain": [
       "{'britain': 'london',\n",
       " 'france': 'paris',\n",
       " 'germany': 'berlin',\n",
       " 'italy': 'rome',\n",
       " 'spain': 'madrid'}"
      ]
     },
     "execution_count": 19,
     "metadata": {},
     "output_type": "execute_result"
    }
   ],
   "source": [
    "europe['britain'] = 'london'\n",
    "# 注意这里的输出顺序和我们输入的顺序不一致，也再一次说明了字典是无序的\n",
    "europe"
   ]
  },
  {
   "cell_type": "markdown",
   "metadata": {},
   "source": [
    "#### 字典的值是可修改的"
   ]
  },
  {
   "cell_type": "code",
   "execution_count": 20,
   "metadata": {},
   "outputs": [
    {
     "name": "stdout",
     "output_type": "stream",
     "text": [
      "{'spain': 'madrid', 'france': 'paris', 'germany': 'berlin', 'italy': 'rome', 'britain': 'London'}\n"
     ]
    }
   ],
   "source": [
    "europe['britain'] = 'London'\n",
    "print(europe)"
   ]
  },
  {
   "cell_type": "markdown",
   "metadata": {},
   "source": [
    "#### 删除某个键-值对"
   ]
  },
  {
   "cell_type": "code",
   "execution_count": 21,
   "metadata": {},
   "outputs": [
    {
     "name": "stdout",
     "output_type": "stream",
     "text": [
      "{'spain': 'madrid', 'france': 'paris', 'germany': 'berlin', 'italy': 'rome'}\n"
     ]
    }
   ],
   "source": [
    "del(europe['britain'])\n",
    "print(europe)"
   ]
  },
  {
   "cell_type": "markdown",
   "metadata": {},
   "source": [
    "### 案例回顾：找出一个文本中最高词频的单词"
   ]
  },
  {
   "cell_type": "code",
   "execution_count": 22,
   "metadata": {},
   "outputs": [
    {
     "name": "stdout",
     "output_type": "stream",
     "text": [
      "{'the': 7, 'clown': 2, 'ran': 2, 'after': 1, 'car': 3, 'and': 3, 'into': 1, 'tent': 2, 'fell': 1, 'down': 1, 'on': 1}\n",
      "the 7\n"
     ]
    }
   ],
   "source": [
    "text = '''the clown ran after the car and the car ran into the tent \n",
    "        and the tent fell down on the clown and the car'''\n",
    "words = text.split()  # 获取单词的列表\n",
    "\n",
    "# 使用字典可以极大简化步骤\n",
    "# 获取单词-词频字典\n",
    "counts = dict() # 初始化一个空的字典\n",
    "for word in words:\n",
    "    counts[word] = counts.get(word, 0) + 1 # 构造字典。注意get方法需要设定默认返回值0（当单词第一次出现时，词频为1）\n",
    "print(counts)\n",
    "\n",
    "# 在字典中查找最高词频的单词\n",
    "bigcount = None\n",
    "bigword = None\n",
    "for word,count in counts.items():\n",
    "    if bigcount is None or count > bigcount:\n",
    "        bigword = word\n",
    "        bigcount = count\n",
    "\n",
    "print(bigword, bigcount)"
   ]
  },
  {
   "cell_type": "markdown",
   "metadata": {},
   "source": [
    "## 作业3-1："
   ]
  },
  {
   "cell_type": "code",
   "execution_count": 23,
   "metadata": {
    "collapsed": true
   },
   "outputs": [],
   "source": [
    "# 字典的值可以是字典本身, 以提供更多信息，例如：\n",
    "europe = { 'spain': { 'capital':'madrid', 'population':46.77 },\n",
    "           'france': { 'capital':'paris', 'population':66.03 },\n",
    "           'germany': { 'capital':'berlin', 'population':80.62 },\n",
    "           'norway': { 'capital':'oslo', 'population':5.084 } }\n",
    "\n",
    "# 1 打印法国首都\n",
    "\n",
    "# 2 加入意大利（italy）的首都（roma）和人口（population 59.83）\n"
   ]
  },
  {
   "cell_type": "markdown",
   "metadata": {},
   "source": [
    "# 循环\n",
    "## while循环\n",
    "* 在循环开始之前对变量进行初始化\n",
    "* 在循环体中重复执行相应的操作，并更新变量的值\n",
    "* 循环结束时查看最终变量"
   ]
  },
  {
   "cell_type": "code",
   "execution_count": 24,
   "metadata": {},
   "outputs": [
    {
     "name": "stdout",
     "output_type": "stream",
     "text": [
      "1\n",
      "2\n",
      "3\n",
      "4\n",
      "5\n",
      "6\n",
      "7\n",
      "8\n",
      "9\n",
      "10\n"
     ]
    }
   ],
   "source": [
    "# 打印1到10的整数\n",
    "num = 1 # 循环开始前初始一个值num\n",
    "while num <= 10:\n",
    "    print(num)\n",
    "    num = num + 1 # 更新变量：使用num+1的值代替num的值, 也可以使用 num += 1\n",
    "                  # = 代表赋值，并不是数学上相等的含义；将num看成是存储数据的容器，其值可根据现有的值进行更新"
   ]
  },
  {
   "cell_type": "code",
   "execution_count": 25,
   "metadata": {},
   "outputs": [
    {
     "name": "stdout",
     "output_type": "stream",
     "text": [
      "11\n"
     ]
    }
   ],
   "source": [
    "# 打印num的最终值，发现已不满足小于等于10的条件了\n",
    "print(num)"
   ]
  },
  {
   "cell_type": "code",
   "execution_count": 26,
   "metadata": {},
   "outputs": [
    {
     "name": "stdout",
     "output_type": "stream",
     "text": [
      "6\n"
     ]
    }
   ],
   "source": [
    "# 找出两个整数的最大公约数\n",
    "n1 = 48\n",
    "n2 = 78\n",
    "gcd = 1 # 初始化最大公约数gcd (greatest common divisor)\n",
    "k = 2 # 可能的gcd\n",
    "while k <= n1 and k <= n2:\n",
    "    if n1 % k ==0 and n2 % k ==0:  # %运算符，取余数\n",
    "        gcd = k\n",
    "    k += 1 # 等价于k = k + 1\n",
    "print(gcd)"
   ]
  },
  {
   "cell_type": "markdown",
   "metadata": {},
   "source": [
    "### while语句小结：\n",
    "1. 计算条件表达式的值，判断是True或False\n",
    "2. 如果为False，结束while语句并执行下一条语句\n",
    "3. 如果为True，执行while中的语句体，然后返回步骤1"
   ]
  },
  {
   "cell_type": "markdown",
   "metadata": {},
   "source": [
    "## 作业3-2："
   ]
  },
  {
   "cell_type": "code",
   "execution_count": 27,
   "metadata": {
    "collapsed": true
   },
   "outputs": [],
   "source": [
    "# 找出两个整数的最小公倍数\n",
    "n1 = 48\n",
    "n2 = 78\n",
    "\n"
   ]
  },
  {
   "cell_type": "markdown",
   "metadata": {},
   "source": [
    "## 循环控制：break和continue\n",
    "* 使用break终止当前循环\n",
    "* 使用continue终止当前迭代，继续下一次循环迭代"
   ]
  },
  {
   "cell_type": "code",
   "execution_count": 28,
   "metadata": {},
   "outputs": [
    {
     "name": "stdout",
     "output_type": "stream",
     "text": [
      "最后一个数是14\n",
      "和是105\n"
     ]
    }
   ],
   "source": [
    "# 下面例子计算从1到20的整数和，当和大于100时使用break终止计算\n",
    "sum = 0\n",
    "number = 0\n",
    "while number < 20:\n",
    "    number += 1    \n",
    "    sum += number  # 等价于sum = sum + number\n",
    "    if sum >= 100:\n",
    "        break # 终止循环\n",
    "        \n",
    "print(\"最后一个数是\" + str(number))\n",
    "print(\"和是\" + str(sum))"
   ]
  },
  {
   "cell_type": "code",
   "execution_count": 29,
   "metadata": {},
   "outputs": [
    {
     "name": "stdout",
     "output_type": "stream",
     "text": [
      "和是189\n"
     ]
    }
   ],
   "source": [
    "# 对从1到20, 除了10和11外的整数进行相加\n",
    "sum = 0\n",
    "number = 0\n",
    "while number < 20:\n",
    "    number += 1\n",
    "    if number == 10 or number == 11:\n",
    "        continue # 跳过当前迭代，循环继续\n",
    "    sum += number\n",
    "    \n",
    "print(\"和是\" + str(sum))"
   ]
  },
  {
   "cell_type": "markdown",
   "metadata": {},
   "source": [
    "## 嵌套循环 （Nested Loops）\n",
    "* 一个循环体中，包含了另一个循环。\n",
    "* 第一个循环称为外部循环，第二个循环称为内部循环。\n",
    "* 外部循环每迭代一次，内部循环都会执行它全部的迭代。"
   ]
  },
  {
   "cell_type": "code",
   "execution_count": 30,
   "metadata": {},
   "outputs": [
    {
     "name": "stdout",
     "output_type": "stream",
     "text": [
      "   1   2   3   4   5   6   7   8   9\n",
      "\n",
      "   2   4   6   8  10  12  14  16  18\n",
      "\n",
      "   3   6   9  12  15  18  21  24  27\n",
      "\n",
      "   4   8  12  16  20  24  28  32  36\n",
      "\n",
      "   5  10  15  20  25  30  35  40  45\n",
      "\n",
      "   6  12  18  24  30  36  42  48  54\n",
      "\n",
      "   7  14  21  28  35  42  49  56  63\n",
      "\n",
      "   8  16  24  32  40  48  56  64  72\n",
      "\n",
      "   9  18  27  36  45  54  63  72  81\n",
      "\n"
     ]
    }
   ],
   "source": [
    "# 用嵌套循环打印９×９乘法表\n",
    "\n",
    "for i in range(1, 10) :\n",
    "    for j in range(1, 10) :\n",
    "        print(format(i * j, \"4d\"), end='')  # 4d控制数字之间的间距\n",
    "    print(\"\\n\") # 跳到下一行"
   ]
  },
  {
   "cell_type": "markdown",
   "metadata": {
    "collapsed": true
   },
   "source": [
    "# 自定义函数\n",
    "\n",
    "* 自定义函数，需要定义函数名和相应的执行语句块，然后就可以在程序中反复调用该函数。\n",
    "* 使用def开头，后接函数名和参数，并用冒号结束该行；之后是代表函数体的代码组，需要缩进。\n",
    "* 参数由一对小括号包围，其个数可以是0个、1个或多个，如果函数名后接空括号表明这个函数没有指定参数。\n",
    "* 调用函数时，使用函数名加上一对小括号，括号内是函数的参数。"
   ]
  },
  {
   "cell_type": "code",
   "execution_count": 31,
   "metadata": {
    "collapsed": true
   },
   "outputs": [],
   "source": [
    "# 回顾：找出两个整数的最大公约数\n",
    "# 我们可以自定义一个叫find_gcd的函数，该函数n1和n2两个参数\n",
    "\n",
    "def find_gcd(n1, n2):\n",
    "    \n",
    "    gcd = 1 # 初始化最大公约数gcd (greatest common divisor)\n",
    "    k = 2 # 可能的gcd\n",
    "    while k <= n1 and k <= n2:\n",
    "        if n1 % k ==0 and n2 % k ==0:\n",
    "            gcd = k\n",
    "        k += 1 # 等价于k = k + 1\n",
    "        \n",
    "    return gcd   # 函数返回值"
   ]
  },
  {
   "cell_type": "code",
   "execution_count": 32,
   "metadata": {},
   "outputs": [
    {
     "name": "stdout",
     "output_type": "stream",
     "text": [
      "4\n"
     ]
    }
   ],
   "source": [
    "# 调用find_gcd函数\n",
    "gcd = find_gcd(48, 68)\n",
    "print(gcd)"
   ]
  },
  {
   "cell_type": "markdown",
   "metadata": {},
   "source": [
    "### 函数可以没有指定参数，也可以没有返回值"
   ]
  },
  {
   "cell_type": "code",
   "execution_count": 33,
   "metadata": {
    "collapsed": true
   },
   "outputs": [],
   "source": [
    "def say_hello():\n",
    "    print('Hello!')"
   ]
  },
  {
   "cell_type": "code",
   "execution_count": 34,
   "metadata": {},
   "outputs": [
    {
     "name": "stdout",
     "output_type": "stream",
     "text": [
      "Hello!\n"
     ]
    }
   ],
   "source": [
    "say_hello()"
   ]
  },
  {
   "cell_type": "markdown",
   "metadata": {},
   "source": [
    "### 函数内部也可以调用函数"
   ]
  },
  {
   "cell_type": "code",
   "execution_count": 35,
   "metadata": {
    "collapsed": true
   },
   "outputs": [],
   "source": [
    "def say_hello_twice():\n",
    "    say_hello()\n",
    "    say_hello()"
   ]
  },
  {
   "cell_type": "code",
   "execution_count": 36,
   "metadata": {},
   "outputs": [
    {
     "name": "stdout",
     "output_type": "stream",
     "text": [
      "Hello!\n",
      "Hello!\n"
     ]
    }
   ],
   "source": [
    "say_hello_twice()"
   ]
  },
  {
   "cell_type": "markdown",
   "metadata": {},
   "source": [
    "## 案例：自定义一个每周工资计算器函数\n",
    "* 输入你的姓名，工作时间，和单位工资\n",
    "* 如果一周工作时间大于40小时，加班时间按照常规工资1.5倍计算"
   ]
  },
  {
   "cell_type": "code",
   "execution_count": 38,
   "metadata": {},
   "outputs": [
    {
     "name": "stdout",
     "output_type": "stream",
     "text": [
      "请输入文本：hello\n",
      "您输入的内容是： hello\n"
     ]
    }
   ],
   "source": [
    "# 使用input()函数，从键盘读取输入的文本\n",
    "a = input('请输入文本：')\n",
    "print('您输入的内容是：', a)"
   ]
  },
  {
   "cell_type": "code",
   "execution_count": 39,
   "metadata": {
    "collapsed": true
   },
   "outputs": [],
   "source": [
    "def salary_calculator(): #没有参数的函数\n",
    "    \n",
    "    user = str # 初始化user为字符串变量\n",
    "    print(\"----工资计算器----\")\n",
    "    user = input(\"\\n请输入你的名字，或者输入0来结束报告: \")\n",
    "    \n",
    "    if user == \"0\":\n",
    "        print(\"结束报告\")\n",
    "    else:\n",
    "        hours = float(input(\"请输入你的工作小时数: \"))\n",
    "        payrate = float(input(\"请输入你的单位时间工资: ￥\"))\n",
    "        \n",
    "        if hours <= 40:\n",
    "            print(\"员工姓名: \", user)\n",
    "            print(\"加班小时数: 0\")\n",
    "            print(\"加班费: ￥0.00\")\n",
    "            regularpay = round(hours * payrate, 2) # round函数保留小数点后两位\n",
    "            print(\"税前工资: ￥\" + str(regularpay))\n",
    "            \n",
    "        elif hours > 40:\n",
    "            overtimehours = round(hours - 40, 2)\n",
    "            print(\"员工姓名: \" + user)\n",
    "            print(\"加班小时数: \" + str(overtimehours))\n",
    "            regularpay = round(40 * payrate, 2)\n",
    "            overtimerate = round(payrate * 1.5, 2)\n",
    "            overtimepay = round(overtimehours * overtimerate)\n",
    "            grosspay = round(regularpay + overtimepay, 2)\n",
    "            print(\"常规工资: ￥\" + str(regularpay))\n",
    "            print(\"加班费: ￥\" + str(overtimepay))\n",
    "            print(\"税前工资: ￥\" + str(grosspay))"
   ]
  },
  {
   "cell_type": "code",
   "execution_count": 40,
   "metadata": {},
   "outputs": [
    {
     "name": "stdout",
     "output_type": "stream",
     "text": [
      "----工资计算器----\n",
      "\n",
      "请输入你的名字，或者输入0来结束报告: wang\n",
      "请输入你的工作小时数: 50\n",
      "请输入你的单位时间工资: ￥100\n",
      "员工姓名: wang\n",
      "加班小时数: 10.0\n",
      "常规工资: ￥4000.0\n",
      "加班费: ￥1500\n",
      "税前工资: ￥5500.0\n"
     ]
    }
   ],
   "source": [
    "# 调用 salary_calculator\n",
    "salary_calculator()"
   ]
  },
  {
   "cell_type": "code",
   "execution_count": 41,
   "metadata": {
    "collapsed": true
   },
   "outputs": [],
   "source": [
    "# 增加循环语句，多次执行工资计算，直到输入0退出循环\n",
    "\n",
    "def multi_salary_calculator(): #没有参数的函数\n",
    "    \n",
    "    user = str # 初始化user为字符串变量\n",
    "    print(\"----工资计算器----\")\n",
    "    \n",
    "    while True:\n",
    "    \n",
    "        user = input(\"\\n请输入你的名字，或者输入0来结束报告: \")\n",
    "\n",
    "        if user == \"0\":\n",
    "            print(\"结束报告\")\n",
    "            break\n",
    "        else:\n",
    "            hours = float(input(\"请输入你的工作小时数: \"))\n",
    "            payrate =float(input(\"请输入你的单位时间工资: ￥\"))\n",
    "\n",
    "            if hours <= 40:\n",
    "                print(\"员工姓名: \", user)\n",
    "                print(\"加班小时数: 0\")\n",
    "                print(\"加班费: ￥0.00\")\n",
    "                regularpay = round(hours * payrate, 2) # round函数保留小数点后两位\n",
    "                print(\"税前工资: ￥\" + str(regularpay))\n",
    "\n",
    "            elif hours > 40:\n",
    "                overtimehours = round(hours - 40, 2)\n",
    "                print(\"员工姓名: \" + user)\n",
    "                print(\"加班小时数: \" + str(overtimehours))\n",
    "                regularpay = round(40 * payrate, 2)\n",
    "                overtimerate = round(payrate * 1.5, 2)\n",
    "                overtimepay = round(overtimehours * overtimerate)\n",
    "                grosspay = round(regularpay + overtimepay, 2)\n",
    "                print(\"常规工资: ￥\" + str(regularpay))\n",
    "                print(\"加班费: ￥\" + str(overtimepay))\n",
    "                print(\"税前工资: ￥\" + str(grosspay))"
   ]
  },
  {
   "cell_type": "code",
   "execution_count": 42,
   "metadata": {},
   "outputs": [
    {
     "name": "stdout",
     "output_type": "stream",
     "text": [
      "----工资计算器----\n",
      "\n",
      "请输入你的名字，或者输入0来结束报告: li\n",
      "请输入你的工作小时数: 20\n",
      "请输入你的单位时间工资: ￥200\n",
      "员工姓名:  li\n",
      "加班小时数: 0\n",
      "加班费: ￥0.00\n",
      "税前工资: ￥4000.0\n",
      "\n",
      "请输入你的名字，或者输入0来结束报告: zhao\n",
      "请输入你的工作小时数: 41\n",
      "请输入你的单位时间工资: ￥100\n",
      "员工姓名: zhao\n",
      "加班小时数: 1.0\n",
      "常规工资: ￥4000.0\n",
      "加班费: ￥150\n",
      "税前工资: ￥4150.0\n",
      "\n",
      "请输入你的名字，或者输入0来结束报告: 0\n",
      "结束报告\n"
     ]
    }
   ],
   "source": [
    "# 调用 multi_salary_calculator\n",
    "multi_salary_calculator()"
   ]
  },
  {
   "cell_type": "markdown",
   "metadata": {},
   "source": [
    "## 作业3-3：贷款月供计算器\n",
    "* 模仿上面的例子设计一个贷款每月还款计算器函数\n",
    "* 用户可以输入贷款年利率，贷款年限，以及贷款额\n",
    "* 函数打印每月还款额以及还款总额\n",
    "\n",
    "#### 每月还款公式：\n",
    "\n",
    "$每月还款 = 贷款额 * \\frac{月利率}{1-\\frac{1}{(1+月利率)^{还款年限*12}}} $\n",
    "\n",
    "使用**代表次方运算符，比如$3**2 = 9$\n"
   ]
  },
  {
   "cell_type": "code",
   "execution_count": null,
   "metadata": {
    "collapsed": true
   },
   "outputs": [],
   "source": [
    "# 提示\n",
    "def mortgage_calculator():\n",
    "    annualInterestRate = float(raw_input(\"输入年利率，比如，8.25: \")) # 输入年利率\n",
    "    monthlyInterestRate = annualInterestRate / 1200 # 转化为月利率\n",
    "    # 输入贷款年限\n",
    "    numberOfYears = int(raw_input(\"输入整数贷款年限, 比如, 5: \"))\n",
    "    \n",
    "    # 开始你的代码：......"
   ]
  }
 ],
 "metadata": {
  "kernelspec": {
   "display_name": "Python 3",
   "language": "python",
   "name": "python3"
  },
  "language_info": {
   "codemirror_mode": {
    "name": "ipython",
    "version": 3
   },
   "file_extension": ".py",
   "mimetype": "text/x-python",
   "name": "python",
   "nbconvert_exporter": "python",
   "pygments_lexer": "ipython3",
   "version": "3.6.1"
  }
 },
 "nbformat": 4,
 "nbformat_minor": 2
}
